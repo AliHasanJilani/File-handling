{
 "cells": [
  {
   "cell_type": "code",
   "execution_count": 1,
   "id": "007ce26c-ffbc-4c10-ab04-8c94a14b042a",
   "metadata": {},
   "outputs": [],
   "source": [
    "# File handling"
   ]
  },
  {
   "cell_type": "code",
   "execution_count": 5,
   "id": "68f381cc-abef-4fd5-98c1-c924af59a8ea",
   "metadata": {},
   "outputs": [
    {
     "name": "stdout",
     "output_type": "stream",
     "text": [
      "Hey Regex \n",
      "\n",
      "Hey Ali\n"
     ]
    }
   ],
   "source": [
    "# method-1\n",
    "file = open ('regex.txt','r')\n",
    "for each in file:\n",
    "    print(each)"
   ]
  },
  {
   "cell_type": "code",
   "execution_count": 7,
   "id": "937dbc9a-0822-423f-b47c-474e8b160061",
   "metadata": {},
   "outputs": [
    {
     "name": "stdout",
     "output_type": "stream",
     "text": [
      "Hey Regex \n",
      "Hey Ali\n"
     ]
    }
   ],
   "source": [
    "# method-2\n",
    "file = open(\"regex.txt\",\"r\")\n",
    "print(file.read())"
   ]
  },
  {
   "cell_type": "code",
   "execution_count": 15,
   "id": "3396581c-9324-4ffe-afd8-6870b587897a",
   "metadata": {},
   "outputs": [
    {
     "name": "stdout",
     "output_type": "stream",
     "text": [
      "Hey Regex \n",
      "Hey Ali\n"
     ]
    }
   ],
   "source": [
    "# method-3\n",
    "with open(\"regex.txt\")as file:\n",
    "    data=file.read()\n",
    "print(data)"
   ]
  },
  {
   "cell_type": "code",
   "execution_count": 17,
   "id": "f84ac61b-a3ce-4531-97ed-a290b4ca11ec",
   "metadata": {},
   "outputs": [
    {
     "name": "stdout",
     "output_type": "stream",
     "text": [
      "Hey Re\n"
     ]
    }
   ],
   "source": [
    "# method-4\n",
    "file=open(\"regex.txt\",\"r\")\n",
    "print(file.read(6))"
   ]
  },
  {
   "cell_type": "code",
   "execution_count": 35,
   "id": "f1c4b945-25a5-44ee-b3ad-8bd7869c77da",
   "metadata": {},
   "outputs": [
    {
     "name": "stdout",
     "output_type": "stream",
     "text": [
      "['Hey Regex \\n', 'Hey Ali']\n",
      "['Hey', 'Regex']\n",
      "['Hey', 'Ali']\n"
     ]
    }
   ],
   "source": [
    "# method-5\n",
    "with open(\"regex.txt\",\"r\")as file:\n",
    "    data=file.readlines()\n",
    "    print(data)\n",
    "    for line in data:\n",
    "        word=line.split()\n",
    "        print(word)\n",
    "    "
   ]
  },
  {
   "cell_type": "code",
   "execution_count": 75,
   "id": "44f81b21-03d2-473b-9e86-2458b4cadfc1",
   "metadata": {},
   "outputs": [],
   "source": [
    "# method-6\n",
    "file=open(\"ali.txt\",\"w\")\n",
    "file.write(\"This is the write command.\")\n",
    "file.write(\"\\nIt allows us to write in a particular file.\")\n",
    "file.write(\"\\nHello\")\n",
    "file.close()"
   ]
  },
  {
   "cell_type": "code",
   "execution_count": 77,
   "id": "8b4da262-f993-445a-875a-983d68ab785e",
   "metadata": {},
   "outputs": [],
   "source": [
    "# method-7\n",
    "with open(\"file.txt\",\"w\") as f:\n",
    "    f.write(\"Hello world!!!\")\n",
    "    "
   ]
  },
  {
   "cell_type": "code",
   "execution_count": 79,
   "id": "1fdfebaa-f506-474b-b485-0927b48bac4e",
   "metadata": {},
   "outputs": [],
   "source": [
    "# method-8\n",
    "file=open(\"file,txt\",\"a\")\n",
    "file.write(\"This will add this line\")\n",
    "file.close()"
   ]
  },
  {
   "cell_type": "code",
   "execution_count": 83,
   "id": "70acc5b9-e574-4c8d-a3b4-452f4f4fe89a",
   "metadata": {},
   "outputs": [
    {
     "name": "stdout",
     "output_type": "stream",
     "text": [
      "<built-in method read of _io.TextIOWrapper object at 0x00000210F5E07680>\n"
     ]
    }
   ],
   "source": [
    "# method-9\n",
    "with open(\"exmaple_rplus.txt\",\"w\") as file:\n",
    "    file.write(\"line 1: Hello World \\nline 2: Welcome to File handling \\nline 3: This is python\")\n",
    "\n",
    "## now , read and write to the the file in 'r+' mode\n",
    "with open(\"exmaple_rplus.txt\",\"r+\") as file:\n",
    "    content=file.read\n",
    "    print(content)"
   ]
  },
  {
   "cell_type": "code",
   "execution_count": 87,
   "id": "30aaca14-dec6-4c44-86b7-d978be3c3e82",
   "metadata": {},
   "outputs": [
    {
     "name": "stdout",
     "output_type": "stream",
     "text": [
      "File created and written sucessfully.\n"
     ]
    }
   ],
   "source": [
    "# method-10\n",
    "# try creating a new file using \"x\" mode\n",
    "\n",
    "try:\n",
    "    with open(\"example_rplus.txt\",\"x\")as file:\n",
    "        file.write(\"This file is created using 'x' mode and this is its content.\")\n",
    "        print(\"File created and written sucessfully.\")\n",
    "except FileExistError:\n",
    "    print(\"File already exits. cannot create using 'x' mode.\")"
   ]
  }
 ],
 "metadata": {
  "kernelspec": {
   "display_name": "Python [conda env:base] *",
   "language": "python",
   "name": "conda-base-py"
  },
  "language_info": {
   "codemirror_mode": {
    "name": "ipython",
    "version": 3
   },
   "file_extension": ".py",
   "mimetype": "text/x-python",
   "name": "python",
   "nbconvert_exporter": "python",
   "pygments_lexer": "ipython3",
   "version": "3.12.7"
  }
 },
 "nbformat": 4,
 "nbformat_minor": 5
}
