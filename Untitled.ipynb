{
 "cells": [
  {
   "cell_type": "code",
   "execution_count": 1,
   "id": "f50617d5-b6ec-41d4-8eeb-dc377d239236",
   "metadata": {},
   "outputs": [],
   "source": [
    "# Exception handling in python\n",
    "\n",
    "# In python file handling is a mechanism to catch and handle error or exception that may occur  \n",
    "\n",
    "# Type of Exception ===>\n",
    "# 1. SyntaxError: raised when the parser encounter a syntax error.\n",
    "# 2. ValueError:"
   ]
  },
  {
   "cell_type": "code",
   "execution_count": 7,
   "id": "46172fc7-4a45-4362-9a9a-33be9eaab4c4",
   "metadata": {},
   "outputs": [
    {
     "ename": "IndentationError",
     "evalue": "unexpected indent (3419880051.py, line 12)",
     "output_type": "error",
     "traceback": [
      "\u001b[1;36m  Cell \u001b[1;32mIn[7], line 12\u001b[1;36m\u001b[0m\n\u001b[1;33m    try:\u001b[0m\n\u001b[1;37m    ^\u001b[0m\n\u001b[1;31mIndentationError\u001b[0m\u001b[1;31m:\u001b[0m unexpected indent\n"
     ]
    }
   ],
   "source": [
    "def exception_handling_example():\n",
    "    #Ex 1: Handling ZeroDivisionError\n",
    "    try:\n",
    "        result=10/0\n",
    "        print(result)\n",
    "    except ZeroDivisionError as e:\n",
    "        print(\"You cannot divide by zero:\",e)\n",
    "\n",
    "    # EX 2: HAndling value error\n",
    "    try:\n",
    "        number = int(input(\"Enter a number:\"))\n",
    "        print(number)\n",
    "    except ValueError as e:\n",
    "        print(\"You cannot enter character only pass intergers:\",e)\n",
    "\n",
    "    # ex 3: handling key error\n",
    "    try:\n",
    "        data = {\"name\":\"ALice\"}\n",
    "        print(data[\"subject\"])\n",
    "    except KeyError as e: \n",
    "        print(\"caught an keyerror:\",e)\n",
    "\n",
    "    # ex 4: handling index error\n",
    "    try:\n",
    "        mylist=[1,2,3]\n",
    "        print(mylist[5])\n",
    "    except IndexError as e:\n",
    "        print(\"caught a index error:\",e)\n",
    "\n",
    "\n",
    "\n",
    "    # ex 5: handling file not found error\n",
    "    try:\n",
    "        with open(\"non_existent_file.txt\")as file:\n",
    "            content = file.read()\n",
    "    except FileNotFoundError as e:\n",
    "        print(\"caught a file not found error:\",e)\n",
    "\n",
    "exception_handling_example()\n",
    "\n",
    "    # Ex 6: handling multiple exceptions \n",
    "    try:\n",
    "        number=int(input(\"string\"))\n",
    "        result=10/number\n",
    "        print(result)\n",
    "    except (ValueError,ZeroDivisionError) as e:\n",
    "        print(\"caught either a valueerror or zerodivisionerror:\",e)\n",
    "\n",
    "exception_handling_example()\n",
    "\n",
    "    # Ex 7: using else and finally\n",
    "    try:\n",
    "        print(\"attempting to open file...\")\n",
    "        with open (\"EX.txt\",\"W\")as f:\n",
    "            f.wrie(\"Hello, World!\")\n",
    "    except FlineNotFoundError :\n",
    "        print(\"file not found\")\n",
    "    else:\n",
    "        print(\"File operations was successful.\")\n",
    "    finally:\n",
    "        print(\"This block runs no matter what.\")\n",
    "\n",
    "\n",
    "exception_handling_example()\n",
    "        \n",
    "    "
   ]
  },
  {
   "cell_type": "code",
   "execution_count": null,
   "id": "e6433c88-44ea-4541-ba64-fd75f69788c1",
   "metadata": {},
   "outputs": [],
   "source": []
  }
 ],
 "metadata": {
  "kernelspec": {
   "display_name": "Python [conda env:base] *",
   "language": "python",
   "name": "conda-base-py"
  },
  "language_info": {
   "codemirror_mode": {
    "name": "ipython",
    "version": 3
   },
   "file_extension": ".py",
   "mimetype": "text/x-python",
   "name": "python",
   "nbconvert_exporter": "python",
   "pygments_lexer": "ipython3",
   "version": "3.12.7"
  }
 },
 "nbformat": 4,
 "nbformat_minor": 5
}
