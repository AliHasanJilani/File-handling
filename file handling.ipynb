{
 "cells": [
  {
   "cell_type": "code",
   "execution_count": 1,
   "id": "78ff444c-4128-4003-a949-857f3c21c277",
   "metadata": {},
   "outputs": [],
   "source": [
    "#file handling\n",
    "# mechanism => file yh data store kr skate  hai"
   ]
  },
  {
   "cell_type": "code",
   "execution_count": 2,
   "id": "33c94043-4c98-455d-aa57-56c194ab818b",
   "metadata": {},
   "outputs": [],
   "source": [
    "# open => access mode\n",
    "# read / write\n",
    "# close"
   ]
  },
  {
   "cell_type": "code",
   "execution_count": 10,
   "id": "fb2cedda-474e-400b-a510-b873df2f7225",
   "metadata": {},
   "outputs": [],
   "source": [
    "fileobj= open(\"fileread.txt\")\n",
    "x_data=fileobj.read()\n",
    "fileobj.close()"
   ]
  },
  {
   "cell_type": "code",
   "execution_count": 12,
   "id": "ad60aa8b-0147-4f8b-a76c-df32929498a6",
   "metadata": {},
   "outputs": [
    {
     "name": "stdout",
     "output_type": "stream",
     "text": [
      "hello ali\n",
      "\n"
     ]
    }
   ],
   "source": [
    "print(x_data)"
   ]
  },
  {
   "cell_type": "code",
   "execution_count": 14,
   "id": "a31ffbf6-cbe7-44f2-94ad-166f272c1fda",
   "metadata": {},
   "outputs": [],
   "source": [
    "fileobj= open(\"fileread.txt\",\"w\")\n",
    "# w => overwrite all its previous content\n",
    "x_data=fileobj.write(\"hey nihal\")\n",
    "fileobj.close()"
   ]
  },
  {
   "cell_type": "code",
   "execution_count": 17,
   "id": "acf8b824-1985-496e-ac6d-58061db5ab50",
   "metadata": {},
   "outputs": [
    {
     "name": "stdout",
     "output_type": "stream",
     "text": [
      "hello ali\n",
      "\n"
     ]
    }
   ],
   "source": [
    "print(x_data)"
   ]
  },
  {
   "cell_type": "code",
   "execution_count": 25,
   "id": "3ac1e5ea-463f-4823-9957-cf682951d9c1",
   "metadata": {},
   "outputs": [
    {
     "name": "stdout",
     "output_type": "stream",
     "text": [
      "pan\n"
     ]
    }
   ],
   "source": [
    "fileobj= open(\"fileread.txt\",\"r+\")\n",
    "fileobj.write(\"##\")\n",
    "x_data=fileobj.read()\n",
    "fileobj.close()\n",
    "\n",
    "# show\n",
    "print(x_data)"
   ]
  },
  {
   "cell_type": "code",
   "execution_count": 28,
   "id": "0d6f7ba5-be96-4dd4-ab87-9135f19c49c3",
   "metadata": {},
   "outputs": [
    {
     "name": "stdout",
     "output_type": "stream",
     "text": [
      "1: 0\n",
      "2: 2\n",
      "\n"
     ]
    }
   ],
   "source": [
    "fileobj= open(\"fileread.txt\",\"w+\")\n",
    "print(\"1:\",fileobj.tell())\n",
    "fileobj.write(\"##\")\n",
    "print(\"2:\",fileobj.tell())\n",
    "x=fileobj.read()\n",
    "fileobj.close()\n",
    "\n",
    "print(x)\n",
    "\n",
    "\n"
   ]
  },
  {
   "cell_type": "code",
   "execution_count": 30,
   "id": "6e34cfe7-f038-4e1d-bab8-62f5bd1f676f",
   "metadata": {},
   "outputs": [
    {
     "name": "stdout",
     "output_type": "stream",
     "text": [
      "1: 0\n",
      "2: 9\n",
      "3rd time: 4\n",
      "sthan\n"
     ]
    }
   ],
   "source": [
    "fileobj= open(\"fileread.txt\",\"w+\")\n",
    "print(\"1:\",fileobj.tell())\n",
    "fileobj.write(\"rajasthan\")\n",
    "print(\"2:\",fileobj.tell())\n",
    "\n",
    "#postion change\n",
    "fileobj.seek(4)\n",
    "print(\"3rd time:\",fileobj.tell())\n",
    "\n",
    "x=fileobj.read()\n",
    "fileobj.close()\n",
    "\n",
    "print(x)"
   ]
  },
  {
   "cell_type": "code",
   "execution_count": 32,
   "id": "0a0e8a12-7f83-4ab7-86b6-b1b185103f6e",
   "metadata": {},
   "outputs": [
    {
     "name": "stdout",
     "output_type": "stream",
     "text": [
      "rajasthan\n"
     ]
    }
   ],
   "source": [
    "with open(\"fileread.txt\",\"r\") as fileobj:\n",
    "    x=fileobj.read()\n",
    "\n",
    "print(x)"
   ]
  },
  {
   "cell_type": "code",
   "execution_count": 38,
   "id": "c8298c10-e547-4ae5-8464-9083206fc79a",
   "metadata": {},
   "outputs": [
    {
     "name": "stdout",
     "output_type": "stream",
     "text": [
      "raj\n",
      "ali\n",
      "aman\n"
     ]
    }
   ],
   "source": [
    "with open(\"fileread.txt\",\"r\") as fileobj:\n",
    "    x=fileobj.read()\n",
    "\n",
    "print(x)"
   ]
  },
  {
   "cell_type": "code",
   "execution_count": 40,
   "id": "02857f95-e41a-492b-aa83-d6c48ead5bf6",
   "metadata": {},
   "outputs": [
    {
     "name": "stdout",
     "output_type": "stream",
     "text": [
      "raj\n",
      "\n"
     ]
    }
   ],
   "source": [
    "with open(\"fileread.txt\",\"r\") as fileobj:\n",
    "    print(fileobj.readline())"
   ]
  },
  {
   "cell_type": "code",
   "execution_count": 42,
   "id": "060f1772-c43f-42d1-84b3-204224341ec8",
   "metadata": {},
   "outputs": [
    {
     "name": "stdout",
     "output_type": "stream",
     "text": [
      "raj\n",
      "\n",
      "ali\n",
      "\n",
      "aman\n"
     ]
    }
   ],
   "source": [
    "with open(\"fileread.txt\",\"r\") as fileobj:\n",
    "    for line in fileobj:\n",
    "        print(line)"
   ]
  },
  {
   "cell_type": "code",
   "execution_count": 44,
   "id": "32130a3c-a319-4696-bb03-0b13e7402dc0",
   "metadata": {},
   "outputs": [
    {
     "name": "stdout",
     "output_type": "stream",
     "text": [
      "['raj\\n', 'ali\\n', 'aman']\n"
     ]
    }
   ],
   "source": [
    "with open(\"fileread.txt\",\"r\") as fileobj:\n",
    "    print(fileobj.readlines())"
   ]
  },
  {
   "cell_type": "code",
   "execution_count": null,
   "id": "810fd90b-69b0-474d-a824-7fb5f3d8cb67",
   "metadata": {},
   "outputs": [],
   "source": []
  }
 ],
 "metadata": {
  "kernelspec": {
   "display_name": "Python 3 (ipykernel)",
   "language": "python",
   "name": "python3"
  },
  "language_info": {
   "codemirror_mode": {
    "name": "ipython",
    "version": 3
   },
   "file_extension": ".py",
   "mimetype": "text/x-python",
   "name": "python",
   "nbconvert_exporter": "python",
   "pygments_lexer": "ipython3",
   "version": "3.12.7"
  }
 },
 "nbformat": 4,
 "nbformat_minor": 5
}
